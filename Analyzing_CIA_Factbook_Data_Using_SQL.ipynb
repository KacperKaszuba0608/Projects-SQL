{
  "cells": [
    {
      "cell_type": "markdown",
      "metadata": {
        "id": "view-in-github",
        "colab_type": "text"
      },
      "source": [
        "<a href=\"https://colab.research.google.com/github/KacperKaszuba0608/Projects-SQL/blob/main/Analyzing_CIA_Factbook_Data_Using_SQL.ipynb\" target=\"_parent\"><img src=\"https://colab.research.google.com/assets/colab-badge.svg\" alt=\"Open In Colab\"/></a>"
      ]
    },
    {
      "cell_type": "markdown",
      "metadata": {
        "id": "dRLNdLq-ZwGU"
      },
      "source": [
        "# Analyzing CIA Factbook Data Using SQL"
      ]
    },
    {
      "cell_type": "markdown",
      "metadata": {
        "id": "Gb-PxC8zZwGW"
      },
      "source": [
        "In this project I'll work with data from the CIA World Factbook. It is a compendium of statistics about all of the countries on Earth. The Factbook contains demographic information like the following:\n",
        "* `population` — the global population.\n",
        "* `population_growth` — the annual population growth rate, as a percentage.\n",
        "* `area` — the total land and water area.\n",
        "\n",
        "At first we connect with SQLite `factbook.db` databse with the commands below."
      ]
    },
    {
      "cell_type": "code",
      "source": [
        "!pip install SQLAlchemy==1.4.4 -q"
      ],
      "metadata": {
        "id": "3O4_nObVZ7Qf"
      },
      "execution_count": 4,
      "outputs": []
    },
    {
      "cell_type": "code",
      "execution_count": 5,
      "metadata": {
        "scrolled": true,
        "id": "VzQOs8elZwGX"
      },
      "outputs": [],
      "source": [
        "%%capture\n",
        "!wget -Oq factbook.db http://bioinf-mw.bihz.upwr.edu.pl/resources/dataquest/factbook.db\n",
        "%load_ext sql\n",
        "%sql sqlite:///factbook.db"
      ]
    },
    {
      "cell_type": "markdown",
      "metadata": {
        "id": "FinCodsEZwGa"
      },
      "source": [
        "## Overview of the Data\n",
        "\n",
        "Here are the descriptions for some of the columns:\n",
        "\n",
        "* `name` — the name of the country.\n",
        "* `area` — the country's total area (both land and water).\n",
        "* `area_land` — the country's land area in square kilometers.\n",
        "* `area_water` — the country's water area in square kilometers.\n",
        "* `population` — the country's population.\n",
        "* `population_growth` — the country's population growth as a percentage.\n",
        "* `birth_rate` — the country's birth rate, or the number of births per year per 1,000 people.\n",
        "* `death_rate` — the country's death rate, or the number of death per year per 1,000 people."
      ]
    },
    {
      "cell_type": "code",
      "execution_count": 6,
      "metadata": {
        "colab": {
          "base_uri": "https://localhost:8080/",
          "height": 179
        },
        "id": "jp9S_JwzZwGa",
        "outputId": "bc196141-78db-4ccc-d6ba-79571652eb15"
      },
      "outputs": [
        {
          "output_type": "stream",
          "name": "stdout",
          "text": [
            " * sqlite:///factbook.db\n",
            "Done.\n"
          ]
        },
        {
          "output_type": "execute_result",
          "data": {
            "text/plain": [
              "[(1, 'af', 'Afghanistan', 652230, 652230, 0, 32564342, 2.32, 38.57, 13.89, 1.51),\n",
              " (2, 'al', 'Albania', 28748, 27398, 1350, 3029278, 0.3, 12.92, 6.58, 3.3),\n",
              " (3, 'ag', 'Algeria', 2381741, 2381741, 0, 39542166, 1.84, 23.67, 4.31, 0.92),\n",
              " (4, 'an', 'Andorra', 468, 468, 0, 85580, 0.12, 8.13, 6.96, 0.0),\n",
              " (5, 'ao', 'Angola', 1246700, 1246700, 0, 19625353, 2.78, 38.78, 11.49, 0.46)]"
            ],
            "text/html": [
              "<table>\n",
              "    <tr>\n",
              "        <th>id</th>\n",
              "        <th>code</th>\n",
              "        <th>name</th>\n",
              "        <th>area</th>\n",
              "        <th>area_land</th>\n",
              "        <th>area_water</th>\n",
              "        <th>population</th>\n",
              "        <th>population_growth</th>\n",
              "        <th>birth_rate</th>\n",
              "        <th>death_rate</th>\n",
              "        <th>migration_rate</th>\n",
              "    </tr>\n",
              "    <tr>\n",
              "        <td>1</td>\n",
              "        <td>af</td>\n",
              "        <td>Afghanistan</td>\n",
              "        <td>652230</td>\n",
              "        <td>652230</td>\n",
              "        <td>0</td>\n",
              "        <td>32564342</td>\n",
              "        <td>2.32</td>\n",
              "        <td>38.57</td>\n",
              "        <td>13.89</td>\n",
              "        <td>1.51</td>\n",
              "    </tr>\n",
              "    <tr>\n",
              "        <td>2</td>\n",
              "        <td>al</td>\n",
              "        <td>Albania</td>\n",
              "        <td>28748</td>\n",
              "        <td>27398</td>\n",
              "        <td>1350</td>\n",
              "        <td>3029278</td>\n",
              "        <td>0.3</td>\n",
              "        <td>12.92</td>\n",
              "        <td>6.58</td>\n",
              "        <td>3.3</td>\n",
              "    </tr>\n",
              "    <tr>\n",
              "        <td>3</td>\n",
              "        <td>ag</td>\n",
              "        <td>Algeria</td>\n",
              "        <td>2381741</td>\n",
              "        <td>2381741</td>\n",
              "        <td>0</td>\n",
              "        <td>39542166</td>\n",
              "        <td>1.84</td>\n",
              "        <td>23.67</td>\n",
              "        <td>4.31</td>\n",
              "        <td>0.92</td>\n",
              "    </tr>\n",
              "    <tr>\n",
              "        <td>4</td>\n",
              "        <td>an</td>\n",
              "        <td>Andorra</td>\n",
              "        <td>468</td>\n",
              "        <td>468</td>\n",
              "        <td>0</td>\n",
              "        <td>85580</td>\n",
              "        <td>0.12</td>\n",
              "        <td>8.13</td>\n",
              "        <td>6.96</td>\n",
              "        <td>0.0</td>\n",
              "    </tr>\n",
              "    <tr>\n",
              "        <td>5</td>\n",
              "        <td>ao</td>\n",
              "        <td>Angola</td>\n",
              "        <td>1246700</td>\n",
              "        <td>1246700</td>\n",
              "        <td>0</td>\n",
              "        <td>19625353</td>\n",
              "        <td>2.78</td>\n",
              "        <td>38.78</td>\n",
              "        <td>11.49</td>\n",
              "        <td>0.46</td>\n",
              "    </tr>\n",
              "</table>"
            ]
          },
          "metadata": {},
          "execution_count": 6
        }
      ],
      "source": [
        "%%sql\n",
        "SELECT *\n",
        "    FROM facts\n",
        "    LIMIT 5;"
      ]
    },
    {
      "cell_type": "markdown",
      "metadata": {
        "id": "_CELKrekZwGb"
      },
      "source": [
        "After look at the content of database, let's calculate some statistics."
      ]
    },
    {
      "cell_type": "code",
      "execution_count": 7,
      "metadata": {
        "colab": {
          "base_uri": "https://localhost:8080/",
          "height": 95
        },
        "id": "hBNtDqQmZwGb",
        "outputId": "63d5861f-8b81-4e06-ff92-39b1155ae0fe"
      },
      "outputs": [
        {
          "output_type": "stream",
          "name": "stdout",
          "text": [
            " * sqlite:///factbook.db\n",
            "Done.\n"
          ]
        },
        {
          "output_type": "execute_result",
          "data": {
            "text/plain": [
              "[(0, 7256490011, 0.0, 4.02)]"
            ],
            "text/html": [
              "<table>\n",
              "    <tr>\n",
              "        <th>min_pop</th>\n",
              "        <th>max_pop</th>\n",
              "        <th>min_pop_growth</th>\n",
              "        <th>max_pop_growth</th>\n",
              "    </tr>\n",
              "    <tr>\n",
              "        <td>0</td>\n",
              "        <td>7256490011</td>\n",
              "        <td>0.0</td>\n",
              "        <td>4.02</td>\n",
              "    </tr>\n",
              "</table>"
            ]
          },
          "metadata": {},
          "execution_count": 7
        }
      ],
      "source": [
        "%%sql\n",
        "SELECT MIN(population) as min_pop, \n",
        "    MAX(population) as max_pop,\n",
        "    MIN(population_growth) as min_pop_growth, \n",
        "    MAX(population_growth) as max_pop_growth\n",
        "    FROM facts;"
      ]
    },
    {
      "cell_type": "markdown",
      "metadata": {
        "id": "1srOyL06ZwGb"
      },
      "source": [
        "As we see above, in the database is a country with population equals 0 and country with population more than 7.2 billion people. \n",
        "\n",
        "## Overview Outliers\n",
        "\n",
        "To zoom in this column let's write some queries. At first we'll find countires with population equal to the minimum population."
      ]
    },
    {
      "cell_type": "code",
      "execution_count": 8,
      "metadata": {
        "colab": {
          "base_uri": "https://localhost:8080/",
          "height": 95
        },
        "id": "S0ALfMZ5ZwGc",
        "outputId": "0d3832a6-47af-4dde-de38-88652e2103ea"
      },
      "outputs": [
        {
          "output_type": "stream",
          "name": "stdout",
          "text": [
            " * sqlite:///factbook.db\n",
            "Done.\n"
          ]
        },
        {
          "output_type": "execute_result",
          "data": {
            "text/plain": [
              "[(250, 'ay', 'Antarctica', None, 280000, None, 0, None, None, None, None)]"
            ],
            "text/html": [
              "<table>\n",
              "    <tr>\n",
              "        <th>id</th>\n",
              "        <th>code</th>\n",
              "        <th>name</th>\n",
              "        <th>area</th>\n",
              "        <th>area_land</th>\n",
              "        <th>area_water</th>\n",
              "        <th>population</th>\n",
              "        <th>population_growth</th>\n",
              "        <th>birth_rate</th>\n",
              "        <th>death_rate</th>\n",
              "        <th>migration_rate</th>\n",
              "    </tr>\n",
              "    <tr>\n",
              "        <td>250</td>\n",
              "        <td>ay</td>\n",
              "        <td>Antarctica</td>\n",
              "        <td>None</td>\n",
              "        <td>280000</td>\n",
              "        <td>None</td>\n",
              "        <td>0</td>\n",
              "        <td>None</td>\n",
              "        <td>None</td>\n",
              "        <td>None</td>\n",
              "        <td>None</td>\n",
              "    </tr>\n",
              "</table>"
            ]
          },
          "metadata": {},
          "execution_count": 8
        }
      ],
      "source": [
        "%%sql\n",
        "SELECT *\n",
        "    FROM facts\n",
        "    WHERE population = (SELECT MIN(population) FROM facts);"
      ]
    },
    {
      "cell_type": "markdown",
      "metadata": {
        "id": "JyMAW5oKZwGc"
      },
      "source": [
        "SQL query shows that only Antarctica has population equals 0.\n",
        "\n",
        "Second query find countries with population equal to maximum population."
      ]
    },
    {
      "cell_type": "code",
      "execution_count": 9,
      "metadata": {
        "colab": {
          "base_uri": "https://localhost:8080/",
          "height": 95
        },
        "id": "FYiuaZkEZwGd",
        "outputId": "7f77ad01-cf21-443f-cb3a-6440d8a92f33"
      },
      "outputs": [
        {
          "output_type": "stream",
          "name": "stdout",
          "text": [
            " * sqlite:///factbook.db\n",
            "Done.\n"
          ]
        },
        {
          "output_type": "execute_result",
          "data": {
            "text/plain": [
              "[(261, 'xx', 'World', None, None, None, 7256490011, 1.08, 18.6, 7.8, None)]"
            ],
            "text/html": [
              "<table>\n",
              "    <tr>\n",
              "        <th>id</th>\n",
              "        <th>code</th>\n",
              "        <th>name</th>\n",
              "        <th>area</th>\n",
              "        <th>area_land</th>\n",
              "        <th>area_water</th>\n",
              "        <th>population</th>\n",
              "        <th>population_growth</th>\n",
              "        <th>birth_rate</th>\n",
              "        <th>death_rate</th>\n",
              "        <th>migration_rate</th>\n",
              "    </tr>\n",
              "    <tr>\n",
              "        <td>261</td>\n",
              "        <td>xx</td>\n",
              "        <td>World</td>\n",
              "        <td>None</td>\n",
              "        <td>None</td>\n",
              "        <td>None</td>\n",
              "        <td>7256490011</td>\n",
              "        <td>1.08</td>\n",
              "        <td>18.6</td>\n",
              "        <td>7.8</td>\n",
              "        <td>None</td>\n",
              "    </tr>\n",
              "</table>"
            ]
          },
          "metadata": {},
          "execution_count": 9
        }
      ],
      "source": [
        "%%sql\n",
        "SELECT * \n",
        "    FROM facts\n",
        "    WHERE population = (SELECT MAX(population) FROM facts);"
      ]
    },
    {
      "cell_type": "markdown",
      "metadata": {
        "id": "WCDF8NF7ZwGd"
      },
      "source": [
        "As we see database contain row with population of whole World."
      ]
    },
    {
      "cell_type": "markdown",
      "metadata": {
        "id": "eDD6CslvZwGd"
      },
      "source": [
        "## Exploring Average Population and Area\n",
        "\n",
        "Now we are going to recompute the summary statistics you found earlier while excluding the row for the whole world."
      ]
    },
    {
      "cell_type": "code",
      "execution_count": 10,
      "metadata": {
        "colab": {
          "base_uri": "https://localhost:8080/",
          "height": 95
        },
        "id": "kPHNtYh1ZwGe",
        "outputId": "adc45db8-1cdd-44fb-98ce-54fc13d71082"
      },
      "outputs": [
        {
          "output_type": "stream",
          "name": "stdout",
          "text": [
            " * sqlite:///factbook.db\n",
            "Done.\n"
          ]
        },
        {
          "output_type": "execute_result",
          "data": {
            "text/plain": [
              "[(0, 1367485388, 0.0, 4.02)]"
            ],
            "text/html": [
              "<table>\n",
              "    <tr>\n",
              "        <th>min_pop</th>\n",
              "        <th>max_pop</th>\n",
              "        <th>min_pop_growth</th>\n",
              "        <th>max_pop_growth</th>\n",
              "    </tr>\n",
              "    <tr>\n",
              "        <td>0</td>\n",
              "        <td>1367485388</td>\n",
              "        <td>0.0</td>\n",
              "        <td>4.02</td>\n",
              "    </tr>\n",
              "</table>"
            ]
          },
          "metadata": {},
          "execution_count": 10
        }
      ],
      "source": [
        "%%sql\n",
        "SELECT\n",
        "    MIN(population) as min_pop,\n",
        "    MAX(population) as max_pop,\n",
        "    MIN(population_growth) as min_pop_growth,\n",
        "    MAX(population_growth) as max_pop_growth\n",
        "    FROM facts\n",
        "    WHERE name != 'World';"
      ]
    },
    {
      "cell_type": "code",
      "execution_count": 11,
      "metadata": {
        "colab": {
          "base_uri": "https://localhost:8080/",
          "height": 95
        },
        "id": "2A09eaiUZwGe",
        "outputId": "9bcdba18-3fc2-405a-8be5-7238105cd7a7"
      },
      "outputs": [
        {
          "output_type": "stream",
          "name": "stdout",
          "text": [
            " * sqlite:///factbook.db\n",
            "Done.\n"
          ]
        },
        {
          "output_type": "execute_result",
          "data": {
            "text/plain": [
              "[(32242666.57, 555093.55)]"
            ],
            "text/html": [
              "<table>\n",
              "    <tr>\n",
              "        <th>avg_pop</th>\n",
              "        <th>avg_area</th>\n",
              "    </tr>\n",
              "    <tr>\n",
              "        <td>32242666.57</td>\n",
              "        <td>555093.55</td>\n",
              "    </tr>\n",
              "</table>"
            ]
          },
          "metadata": {},
          "execution_count": 11
        }
      ],
      "source": [
        "%%sql\n",
        "SELECT\n",
        "    ROUND(AVG(population), 2) as avg_pop,\n",
        "    ROUND(AVG(area), 2) as avg_area\n",
        "    FROM facts\n",
        "    WHERE name != 'World'"
      ]
    },
    {
      "cell_type": "markdown",
      "metadata": {
        "id": "RZsmkTQaZwGe"
      },
      "source": [
        "As we see the average of population is 32 million people and 555 thousand square kilometers."
      ]
    },
    {
      "cell_type": "markdown",
      "metadata": {
        "id": "XgUyVXQOZwGf"
      },
      "source": [
        "## Finding Densely Populated Countries"
      ]
    },
    {
      "cell_type": "markdown",
      "metadata": {
        "id": "F06JenmqZwGf"
      },
      "source": [
        "We'll build on the query we wrote for the previous to find countries that are densely populated. We'll identify countries that have the following:\n",
        "\n",
        "* Above-average values for population.\n",
        "* Below-average values for area."
      ]
    },
    {
      "cell_type": "code",
      "execution_count": 12,
      "metadata": {
        "colab": {
          "base_uri": "https://localhost:8080/",
          "height": 221
        },
        "id": "J3q-Ko91ZwGf",
        "outputId": "7d0df24b-c691-4a42-e1c4-606c7cd7fec9"
      },
      "outputs": [
        {
          "output_type": "stream",
          "name": "stdout",
          "text": [
            " * sqlite:///factbook.db\n",
            "Done.\n"
          ]
        },
        {
          "output_type": "execute_result",
          "data": {
            "text/plain": [
              "[(14, 'bg', 'Bangladesh', 148460, 130170, 18290, 168957745, 1.6, 21.14, 5.61, 0.46),\n",
              " (65, 'gm', 'Germany', 357022, 348672, 8350, 80854408, 0.17, 8.47, 11.42, 1.24),\n",
              " (85, 'ja', 'Japan', 377915, 364485, 13430, 126919659, 0.16, 7.93, 9.51, 0.0),\n",
              " (138, 'rp', 'Philippines', 300000, 298170, 1830, 100998376, 1.61, 24.27, 6.11, 2.09),\n",
              " (173, 'th', 'Thailand', 513120, 510890, 2230, 67976405, 0.34, 11.19, 7.8, 0.0),\n",
              " (185, 'uk', 'United Kingdom', 243610, 241930, 1680, 64088222, 0.54, 12.17, 9.35, 2.54),\n",
              " (192, 'vm', 'Vietnam', 331210, 310070, 21140, 94348835, 0.97, 15.96, 5.93, 0.3)]"
            ],
            "text/html": [
              "<table>\n",
              "    <tr>\n",
              "        <th>id</th>\n",
              "        <th>code</th>\n",
              "        <th>name</th>\n",
              "        <th>area</th>\n",
              "        <th>area_land</th>\n",
              "        <th>area_water</th>\n",
              "        <th>population</th>\n",
              "        <th>population_growth</th>\n",
              "        <th>birth_rate</th>\n",
              "        <th>death_rate</th>\n",
              "        <th>migration_rate</th>\n",
              "    </tr>\n",
              "    <tr>\n",
              "        <td>14</td>\n",
              "        <td>bg</td>\n",
              "        <td>Bangladesh</td>\n",
              "        <td>148460</td>\n",
              "        <td>130170</td>\n",
              "        <td>18290</td>\n",
              "        <td>168957745</td>\n",
              "        <td>1.6</td>\n",
              "        <td>21.14</td>\n",
              "        <td>5.61</td>\n",
              "        <td>0.46</td>\n",
              "    </tr>\n",
              "    <tr>\n",
              "        <td>65</td>\n",
              "        <td>gm</td>\n",
              "        <td>Germany</td>\n",
              "        <td>357022</td>\n",
              "        <td>348672</td>\n",
              "        <td>8350</td>\n",
              "        <td>80854408</td>\n",
              "        <td>0.17</td>\n",
              "        <td>8.47</td>\n",
              "        <td>11.42</td>\n",
              "        <td>1.24</td>\n",
              "    </tr>\n",
              "    <tr>\n",
              "        <td>85</td>\n",
              "        <td>ja</td>\n",
              "        <td>Japan</td>\n",
              "        <td>377915</td>\n",
              "        <td>364485</td>\n",
              "        <td>13430</td>\n",
              "        <td>126919659</td>\n",
              "        <td>0.16</td>\n",
              "        <td>7.93</td>\n",
              "        <td>9.51</td>\n",
              "        <td>0.0</td>\n",
              "    </tr>\n",
              "    <tr>\n",
              "        <td>138</td>\n",
              "        <td>rp</td>\n",
              "        <td>Philippines</td>\n",
              "        <td>300000</td>\n",
              "        <td>298170</td>\n",
              "        <td>1830</td>\n",
              "        <td>100998376</td>\n",
              "        <td>1.61</td>\n",
              "        <td>24.27</td>\n",
              "        <td>6.11</td>\n",
              "        <td>2.09</td>\n",
              "    </tr>\n",
              "    <tr>\n",
              "        <td>173</td>\n",
              "        <td>th</td>\n",
              "        <td>Thailand</td>\n",
              "        <td>513120</td>\n",
              "        <td>510890</td>\n",
              "        <td>2230</td>\n",
              "        <td>67976405</td>\n",
              "        <td>0.34</td>\n",
              "        <td>11.19</td>\n",
              "        <td>7.8</td>\n",
              "        <td>0.0</td>\n",
              "    </tr>\n",
              "    <tr>\n",
              "        <td>185</td>\n",
              "        <td>uk</td>\n",
              "        <td>United Kingdom</td>\n",
              "        <td>243610</td>\n",
              "        <td>241930</td>\n",
              "        <td>1680</td>\n",
              "        <td>64088222</td>\n",
              "        <td>0.54</td>\n",
              "        <td>12.17</td>\n",
              "        <td>9.35</td>\n",
              "        <td>2.54</td>\n",
              "    </tr>\n",
              "    <tr>\n",
              "        <td>192</td>\n",
              "        <td>vm</td>\n",
              "        <td>Vietnam</td>\n",
              "        <td>331210</td>\n",
              "        <td>310070</td>\n",
              "        <td>21140</td>\n",
              "        <td>94348835</td>\n",
              "        <td>0.97</td>\n",
              "        <td>15.96</td>\n",
              "        <td>5.93</td>\n",
              "        <td>0.3</td>\n",
              "    </tr>\n",
              "</table>"
            ]
          },
          "metadata": {},
          "execution_count": 12
        }
      ],
      "source": [
        "%%sql\n",
        "SELECT * \n",
        "    FROM facts\n",
        "    WHERE population > (SELECT AVG(population) FROM facts) AND\n",
        "          area < (SELECT AVG(area) FROM facts);"
      ]
    },
    {
      "cell_type": "markdown",
      "metadata": {
        "id": "E60HkGiBZwGf"
      },
      "source": [
        "As we see countries which are densley populated are:\n",
        "* Bangladesh\n",
        "* Germany\n",
        "* Japan\n",
        "* Philippines\n",
        "* Thailand\n",
        "* United Kingdom\n",
        "* Vietnam"
      ]
    }
  ],
  "metadata": {
    "kernelspec": {
      "display_name": "Python 3",
      "language": "python",
      "name": "python3"
    },
    "language_info": {
      "codemirror_mode": {
        "name": "ipython",
        "version": 3
      },
      "file_extension": ".py",
      "mimetype": "text/x-python",
      "name": "python",
      "nbconvert_exporter": "python",
      "pygments_lexer": "ipython3",
      "version": "3.4.3"
    },
    "colab": {
      "provenance": [],
      "include_colab_link": true
    }
  },
  "nbformat": 4,
  "nbformat_minor": 0
}